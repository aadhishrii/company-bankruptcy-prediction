{
 "cells": [
  {
   "cell_type": "markdown",
   "metadata": {
    "id": "0MRC0e0KhQ0S"
   },
   "source": [
    "# Random Forest Classification"
   ]
  },
  {
   "cell_type": "markdown",
   "metadata": {
    "id": "LWd1UlMnhT2s"
   },
   "source": [
    "## Importing the libraries"
   ]
  },
  {
   "cell_type": "code",
   "execution_count": 1,
   "metadata": {
    "executionInfo": {
     "elapsed": 636,
     "status": "ok",
     "timestamp": 1628159598742,
     "user": {
      "displayName": "Aadhishrii Patiil",
      "photoUrl": "https://lh3.googleusercontent.com/a-/AOh14GiRxg2Xzt3H395CcMSBSnKUWXGUffwK04DbI7PjLhY=s64",
      "userId": "01064352760328716387"
     },
     "user_tz": -330
    },
    "id": "YvGPUQaHhXfL"
   },
   "outputs": [],
   "source": [
    "import numpy as np\n",
    "import matplotlib.pyplot as plt\n",
    "import pandas as pd\n",
    "from sklearn.model_selection import GridSearchCV"
   ]
  },
  {
   "cell_type": "markdown",
   "metadata": {
    "id": "K1VMqkGvhc3-"
   },
   "source": [
    "## Importing the dataset"
   ]
  },
  {
   "cell_type": "code",
   "execution_count": 2,
   "metadata": {
    "executionInfo": {
     "elapsed": 9,
     "status": "ok",
     "timestamp": 1628159598743,
     "user": {
      "displayName": "Aadhishrii Patiil",
      "photoUrl": "https://lh3.googleusercontent.com/a-/AOh14GiRxg2Xzt3H395CcMSBSnKUWXGUffwK04DbI7PjLhY=s64",
      "userId": "01064352760328716387"
     },
     "user_tz": -330
    },
    "id": "M52QDmyzhh9s"
   },
   "outputs": [],
   "source": [
    "dataset = pd.read_csv('data.csv')\n",
    "X = dataset.drop(columns=['Bankrupt?'])\n",
    "y = dataset['Bankrupt?']"
   ]
  },
  {
   "cell_type": "markdown",
   "metadata": {
    "id": "YvxIPVyMhmKp"
   },
   "source": [
    "## Splitting the dataset into the Training set and Test set"
   ]
  },
  {
   "cell_type": "code",
   "execution_count": 3,
   "metadata": {
    "executionInfo": {
     "elapsed": 1409,
     "status": "ok",
     "timestamp": 1628159600145,
     "user": {
      "displayName": "Aadhishrii Patiil",
      "photoUrl": "https://lh3.googleusercontent.com/a-/AOh14GiRxg2Xzt3H395CcMSBSnKUWXGUffwK04DbI7PjLhY=s64",
      "userId": "01064352760328716387"
     },
     "user_tz": -330
    },
    "id": "AVzJWAXIhxoC"
   },
   "outputs": [],
   "source": [
    "from sklearn.model_selection import train_test_split\n",
    "X_train, X_test, y_train, y_test = train_test_split(X, y, test_size = 0.25, random_state = 0)"
   ]
  },
  {
   "cell_type": "code",
   "execution_count": 4,
   "metadata": {
    "colab": {
     "base_uri": "https://localhost:8080/"
    },
    "executionInfo": {
     "elapsed": 51,
     "status": "ok",
     "timestamp": 1628159600145,
     "user": {
      "displayName": "Aadhishrii Patiil",
      "photoUrl": "https://lh3.googleusercontent.com/a-/AOh14GiRxg2Xzt3H395CcMSBSnKUWXGUffwK04DbI7PjLhY=s64",
      "userId": "01064352760328716387"
     },
     "user_tz": -330
    },
    "id": "P3nS3-6r1i2B",
    "outputId": "744f40f8-e73d-4a7d-d660-cf097f9ccd5b"
   },
   "outputs": [
    {
     "name": "stdout",
     "output_type": "stream",
     "text": [
      "       ROA(C) before interest and depreciation before interest  \\\n",
      "2303                                           0.469848          \n",
      "3719                                           0.506313          \n",
      "5893                                           0.508166          \n",
      "4063                                           0.421586          \n",
      "3989                                           0.501584          \n",
      "...                                                 ...          \n",
      "4931                                           0.473505          \n",
      "3264                                           0.630868          \n",
      "1653                                           0.546044          \n",
      "2607                                           0.505436          \n",
      "2732                                           0.591820          \n",
      "\n",
      "       ROA(A) before interest and % after tax  \\\n",
      "2303                                 0.535979   \n",
      "3719                                 0.557894   \n",
      "5893                                 0.567706   \n",
      "4063                                 0.459169   \n",
      "3989                                 0.549608   \n",
      "...                                       ...   \n",
      "4931                                 0.527366   \n",
      "3264                                 0.695595   \n",
      "1653                                 0.609409   \n",
      "2607                                 0.582915   \n",
      "2732                                 0.637974   \n",
      "\n",
      "       ROA(B) before interest and depreciation after tax  \\\n",
      "2303                                           0.522244    \n",
      "3719                                           0.560737    \n",
      "5893                                           0.550351    \n",
      "4063                                           0.466995    \n",
      "3989                                           0.554045    \n",
      "...                                                 ...    \n",
      "4931                                           0.522780    \n",
      "3264                                           0.691793    \n",
      "1653                                           0.596178    \n",
      "2607                                           0.553563    \n",
      "2732                                           0.631404    \n",
      "\n",
      "       Operating Gross Margin   Realized Sales Gross Margin  \\\n",
      "2303                 0.617809                      0.617809   \n",
      "3719                 0.623510                      0.623510   \n",
      "5893                 0.601962                      0.601962   \n",
      "4063                 0.595951                      0.595951   \n",
      "3989                 0.623719                      0.623719   \n",
      "...                       ...                           ...   \n",
      "4931                 0.603735                      0.603735   \n",
      "3264                 0.623222                      0.623222   \n",
      "1653                 0.602827                      0.601825   \n",
      "2607                 0.608541                      0.608541   \n",
      "2732                 0.604160                      0.604160   \n",
      "\n",
      "       Operating Profit Rate   Pre-tax net Interest Rate  \\\n",
      "2303                0.999247                    0.797455   \n",
      "3719                0.999029                    0.797523   \n",
      "5893                0.999024                    0.797436   \n",
      "4063                0.998807                    0.797045   \n",
      "3989                0.999006                    0.797444   \n",
      "...                      ...                         ...   \n",
      "4931                0.998988                    0.797334   \n",
      "3264                0.999244                    0.797700   \n",
      "1653                0.999045                    0.797645   \n",
      "2607                0.999132                    0.797798   \n",
      "2732                0.999003                    0.797552   \n",
      "\n",
      "       After-tax net Interest Rate  \\\n",
      "2303                      0.809369   \n",
      "3719                      0.809431   \n",
      "5893                      0.809345   \n",
      "4063                      0.809013   \n",
      "3989                      0.809383   \n",
      "...                            ...   \n",
      "4931                      0.809272   \n",
      "3264                      0.809594   \n",
      "1653                      0.809532   \n",
      "2607                      0.809645   \n",
      "2732                      0.809437   \n",
      "\n",
      "       Non-industry income and expenditure/revenue  \\\n",
      "2303                                      0.303058   \n",
      "3719                                      0.303631   \n",
      "5893                                      0.303493   \n",
      "4063                                      0.303261   \n",
      "3989                                      0.303542   \n",
      "...                                            ...   \n",
      "4931                                      0.303389   \n",
      "3264                                      0.303492   \n",
      "1653                                      0.303812   \n",
      "2607                                      0.303899   \n",
      "2732                                      0.303738   \n",
      "\n",
      "       Continuous interest rate (after tax)  ...   Net Income to Total Assets  \\\n",
      "2303                               0.781684  ...                     0.798502   \n",
      "3719                               0.781692  ...                     0.811438   \n",
      "5893                               0.781604  ...                     0.816867   \n",
      "4063                               0.781248  ...                     0.751090   \n",
      "3989                               0.781646  ...                     0.806803   \n",
      "...                                     ...  ...                          ...   \n",
      "4931                               0.781522  ...                     0.792509   \n",
      "3264                               0.781875  ...                     0.872536   \n",
      "1653                               0.781807  ...                     0.837952   \n",
      "2607                               0.781794  ...                     0.825543   \n",
      "2732                               0.781705  ...                     0.852880   \n",
      "\n",
      "       Total assets to GNP price   No-credit Interval   Gross Profit to Sales  \\\n",
      "2303                    0.010821             0.621253                0.617810   \n",
      "3719                    0.001429             0.624352                0.623507   \n",
      "5893                    0.000804             0.623798                0.601959   \n",
      "4063                    0.000306             0.625146                0.595950   \n",
      "3989                    0.000519             0.624178                0.623715   \n",
      "...                          ...                  ...                     ...   \n",
      "4931                    0.002414             0.624021                0.603732   \n",
      "3264                    0.002612             0.624078                0.623219   \n",
      "1653                    0.004855             0.624443                0.602822   \n",
      "2607                    0.006383             0.639333                0.608537   \n",
      "2732                    0.001687             0.623872                0.604154   \n",
      "\n",
      "       Net Income to Stockholder's Equity   Liability to Equity  \\\n",
      "2303                             0.840230              0.278770   \n",
      "3719                             0.840853              0.275630   \n",
      "5893                             0.842147              0.282581   \n",
      "4063                             0.837720              0.275522   \n",
      "3989                             0.840600              0.275492   \n",
      "...                                   ...                   ...   \n",
      "4931                             0.839765              0.279590   \n",
      "3264                             0.845045              0.277484   \n",
      "1653                             0.842829              0.277634   \n",
      "2607                             0.841504              0.275196   \n",
      "2732                             0.843649              0.277200   \n",
      "\n",
      "       Degree of Financial Leverage (DFL)  \\\n",
      "2303                             0.026979   \n",
      "3719                             0.026792   \n",
      "5893                             0.026814   \n",
      "4063                             0.026791   \n",
      "3989                             0.026791   \n",
      "...                                   ...   \n",
      "4931                             0.026272   \n",
      "3264                             0.026807   \n",
      "1653                             0.026802   \n",
      "2607                             0.026803   \n",
      "2732                             0.026811   \n",
      "\n",
      "       Interest Coverage Ratio (Interest expense to EBIT)   Net Income Flag  \\\n",
      "2303                                           0.565918                   1   \n",
      "3719                                           0.565161                   1   \n",
      "5893                                           0.565265                   1   \n",
      "4063                                           0.565158                   1   \n",
      "3989                                           0.565158                   1   \n",
      "...                                                 ...                 ...   \n",
      "4931                                           0.560288                   1   \n",
      "3264                                           0.565231                   1   \n",
      "1653                                           0.565208                   1   \n",
      "2607                                           0.565214                   1   \n",
      "2732                                           0.565250                   1   \n",
      "\n",
      "       Equity to Liability  \n",
      "2303              0.033910  \n",
      "3719              0.112263  \n",
      "5893              0.022486  \n",
      "4063              0.125407  \n",
      "3989              0.129566  \n",
      "...                    ...  \n",
      "4931              0.029950  \n",
      "3264              0.044773  \n",
      "1653              0.043021  \n",
      "2607              0.198333  \n",
      "2732              0.048658  \n",
      "\n",
      "[5114 rows x 95 columns]\n"
     ]
    }
   ],
   "source": [
    "print(X_train)"
   ]
  },
  {
   "cell_type": "code",
   "execution_count": 5,
   "metadata": {
    "colab": {
     "base_uri": "https://localhost:8080/"
    },
    "executionInfo": {
     "elapsed": 45,
     "status": "ok",
     "timestamp": 1628159600146,
     "user": {
      "displayName": "Aadhishrii Patiil",
      "photoUrl": "https://lh3.googleusercontent.com/a-/AOh14GiRxg2Xzt3H395CcMSBSnKUWXGUffwK04DbI7PjLhY=s64",
      "userId": "01064352760328716387"
     },
     "user_tz": -330
    },
    "id": "8dpDLojm1mVG",
    "outputId": "3baa4a65-89ea-4c89-ddfe-32c49f24eed2"
   },
   "outputs": [
    {
     "name": "stdout",
     "output_type": "stream",
     "text": [
      "2303    0\n",
      "3719    0\n",
      "5893    0\n",
      "4063    0\n",
      "3989    0\n",
      "       ..\n",
      "4931    0\n",
      "3264    0\n",
      "1653    0\n",
      "2607    0\n",
      "2732    0\n",
      "Name: Bankrupt?, Length: 5114, dtype: int64\n"
     ]
    }
   ],
   "source": [
    "print(y_train)"
   ]
  },
  {
   "cell_type": "code",
   "execution_count": 6,
   "metadata": {
    "colab": {
     "base_uri": "https://localhost:8080/"
    },
    "executionInfo": {
     "elapsed": 40,
     "status": "ok",
     "timestamp": 1628159600147,
     "user": {
      "displayName": "Aadhishrii Patiil",
      "photoUrl": "https://lh3.googleusercontent.com/a-/AOh14GiRxg2Xzt3H395CcMSBSnKUWXGUffwK04DbI7PjLhY=s64",
      "userId": "01064352760328716387"
     },
     "user_tz": -330
    },
    "id": "qbb7i0DH1qui",
    "outputId": "d6b92e2a-efa1-42c8-f451-32792ff740b1"
   },
   "outputs": [
    {
     "name": "stdout",
     "output_type": "stream",
     "text": [
      "       ROA(C) before interest and depreciation before interest  \\\n",
      "4929                                           0.481207          \n",
      "6424                                           0.501828          \n",
      "3807                                           0.517574          \n",
      "2011                                           0.521669          \n",
      "6728                                           0.492176          \n",
      "...                                                 ...          \n",
      "3180                                           0.456686          \n",
      "6112                                           0.598986          \n",
      "4490                                           0.501682          \n",
      "4617                                           0.512846          \n",
      "6526                                           0.540340          \n",
      "\n",
      "       ROA(A) before interest and % after tax  \\\n",
      "4929                                 0.469418   \n",
      "6424                                 0.557894   \n",
      "3807                                 0.537505   \n",
      "2011                                 0.596162   \n",
      "6728                                 0.544320   \n",
      "...                                       ...   \n",
      "3180                                 0.514937   \n",
      "6112                                 0.647732   \n",
      "4490                                 0.559474   \n",
      "4617                                 0.565580   \n",
      "6526                                 0.607719   \n",
      "\n",
      "       ROA(B) before interest and depreciation after tax  \\\n",
      "4929                                           0.513143    \n",
      "6424                                           0.552706    \n",
      "3807                                           0.559880    \n",
      "2011                                           0.580491    \n",
      "6728                                           0.533326    \n",
      "...                                                 ...    \n",
      "3180                                           0.503292    \n",
      "6112                                           0.636544    \n",
      "4490                                           0.562503    \n",
      "4617                                           0.553884    \n",
      "6526                                           0.600246    \n",
      "\n",
      "       Operating Gross Margin   Realized Sales Gross Margin  \\\n",
      "4929                 0.596679                      0.596679   \n",
      "6424                 0.613644                      0.613644   \n",
      "3807                 0.598351                      0.598351   \n",
      "2011                 0.599101                      0.599108   \n",
      "6728                 0.618105                      0.618105   \n",
      "...                       ...                           ...   \n",
      "3180                 0.614192                      0.614192   \n",
      "6112                 0.627921                      0.627921   \n",
      "4490                 0.597875                      0.597875   \n",
      "4617                 0.610682                      0.610660   \n",
      "6526                 0.632028                      0.632028   \n",
      "\n",
      "       Operating Profit Rate   Pre-tax net Interest Rate  \\\n",
      "4929                0.998884                    0.797144   \n",
      "6424                0.999065                    0.797463   \n",
      "3807                0.998982                    0.797410   \n",
      "2011                0.999007                    0.797459   \n",
      "6728                0.999083                    0.797456   \n",
      "...                      ...                         ...   \n",
      "3180                0.998035                    0.796751   \n",
      "6112                0.999380                    0.797898   \n",
      "4490                0.998967                    0.797407   \n",
      "4617                0.999097                    0.797481   \n",
      "6526                0.999089                    0.797592   \n",
      "\n",
      "       After-tax net Interest Rate  \\\n",
      "4929                      0.809037   \n",
      "6424                      0.809380   \n",
      "3807                      0.809328   \n",
      "2011                      0.809386   \n",
      "6728                      0.809338   \n",
      "...                            ...   \n",
      "3180                      0.808558   \n",
      "6112                      0.809706   \n",
      "4490                      0.809338   \n",
      "4617                      0.809373   \n",
      "6526                      0.809506   \n",
      "\n",
      "       Non-industry income and expenditure/revenue  \\\n",
      "4929                                      0.303275   \n",
      "6424                                      0.303451   \n",
      "3807                                      0.303533   \n",
      "2011                                      0.303566   \n",
      "6728                                      0.303401   \n",
      "...                                            ...   \n",
      "3180                                      0.304362   \n",
      "6112                                      0.303552   \n",
      "4490                                      0.303559   \n",
      "4617                                      0.303417   \n",
      "6526                                      0.303626   \n",
      "\n",
      "       Continuous interest rate (after tax)  ...   Net Income to Total Assets  \\\n",
      "4929                               0.781412  ...                     0.752604   \n",
      "6424                               0.781650  ...                     0.811104   \n",
      "3807                               0.781589  ...                     0.799854   \n",
      "2011                               0.781650  ...                     0.830860   \n",
      "6728                               0.781598  ...                     0.800780   \n",
      "...                                     ...  ...                          ...   \n",
      "3180                               0.780757  ...                     0.786847   \n",
      "6112                               0.781998  ...                     0.858316   \n",
      "4490                               0.781611  ...                     0.810129   \n",
      "4617                               0.781642  ...                     0.812111   \n",
      "6526                               0.781779  ...                     0.840295   \n",
      "\n",
      "       Total assets to GNP price   No-credit Interval   Gross Profit to Sales  \\\n",
      "4929                    0.004379             0.623901                0.596676   \n",
      "6424                    0.000284             0.624245                0.613641   \n",
      "3807                    0.004069             0.623623                0.598350   \n",
      "2011                    0.000933             0.624690                0.599099   \n",
      "6728                    0.000517             0.623737                0.618104   \n",
      "...                          ...                  ...                     ...   \n",
      "3180                    0.000356             0.625703                0.614187   \n",
      "6112                    0.003652             0.624658                0.627921   \n",
      "4490                    0.001178             0.623233                0.597875   \n",
      "4617                    0.000927             0.623734                0.610681   \n",
      "6526                    0.000472             0.623987                0.632026   \n",
      "\n",
      "       Net Income to Stockholder's Equity   Liability to Equity  \\\n",
      "4929                             0.837323              0.277101   \n",
      "6424                             0.841104              0.278183   \n",
      "3807                             0.840260              0.276186   \n",
      "2011                             0.842316              0.277461   \n",
      "6728                             0.840533              0.282763   \n",
      "...                                   ...                   ...   \n",
      "3180                             0.839615              0.274792   \n",
      "6112                             0.844390              0.278117   \n",
      "4490                             0.841756              0.285503   \n",
      "4617                             0.841383              0.280035   \n",
      "6526                             0.842484              0.276008   \n",
      "\n",
      "       Degree of Financial Leverage (DFL)  \\\n",
      "4929                             0.026709   \n",
      "6424                             0.026791   \n",
      "3807                             0.026882   \n",
      "2011                             0.026932   \n",
      "6728                             0.027033   \n",
      "...                                   ...   \n",
      "3180                             0.026791   \n",
      "6112                             0.026819   \n",
      "4490                             0.027047   \n",
      "4617                             0.026890   \n",
      "6526                             0.026791   \n",
      "\n",
      "       Interest Coverage Ratio (Interest expense to EBIT)   Net Income Flag  \\\n",
      "4929                                           0.564731                   1   \n",
      "6424                                           0.565158                   1   \n",
      "3807                                           0.565555                   1   \n",
      "2011                                           0.565750                   1   \n",
      "6728                                           0.566098                   1   \n",
      "...                                                 ...                 ...   \n",
      "3180                                           0.565158                   1   \n",
      "6112                                           0.565287                   1   \n",
      "4490                                           0.566140                   1   \n",
      "4617                                           0.565588                   1   \n",
      "6526                                           0.565158                   1   \n",
      "\n",
      "       Equity to Liability  \n",
      "4929              0.050237  \n",
      "6424              0.037879  \n",
      "3807              0.074581  \n",
      "2011              0.045051  \n",
      "6728              0.022209  \n",
      "...                    ...  \n",
      "3180              0.881018  \n",
      "6112              0.038407  \n",
      "4490              0.019177  \n",
      "4617              0.028312  \n",
      "6526              0.083205  \n",
      "\n",
      "[1705 rows x 95 columns]\n"
     ]
    }
   ],
   "source": [
    "print(X_test)"
   ]
  },
  {
   "cell_type": "code",
   "execution_count": 7,
   "metadata": {
    "colab": {
     "base_uri": "https://localhost:8080/"
    },
    "executionInfo": {
     "elapsed": 37,
     "status": "ok",
     "timestamp": 1628159600147,
     "user": {
      "displayName": "Aadhishrii Patiil",
      "photoUrl": "https://lh3.googleusercontent.com/a-/AOh14GiRxg2Xzt3H395CcMSBSnKUWXGUffwK04DbI7PjLhY=s64",
      "userId": "01064352760328716387"
     },
     "user_tz": -330
    },
    "id": "kj1hnFAR1s5w",
    "outputId": "dda9690f-7067-43f6-bd2d-e9b1637adef3"
   },
   "outputs": [
    {
     "name": "stdout",
     "output_type": "stream",
     "text": [
      "4929    0\n",
      "6424    0\n",
      "3807    0\n",
      "2011    0\n",
      "6728    1\n",
      "       ..\n",
      "3180    0\n",
      "6112    0\n",
      "4490    0\n",
      "4617    0\n",
      "6526    0\n",
      "Name: Bankrupt?, Length: 1705, dtype: int64\n"
     ]
    }
   ],
   "source": [
    "print(y_test)"
   ]
  },
  {
   "cell_type": "markdown",
   "metadata": {
    "id": "bb6jCOCQiAmP"
   },
   "source": [
    "## Training the Random Forest Classification model on the Training set"
   ]
  },
  {
   "cell_type": "code",
   "execution_count": 8,
   "metadata": {
    "colab": {
     "base_uri": "https://localhost:8080/"
    },
    "executionInfo": {
     "elapsed": 27,
     "status": "ok",
     "timestamp": 1628159600151,
     "user": {
      "displayName": "Aadhishrii Patiil",
      "photoUrl": "https://lh3.googleusercontent.com/a-/AOh14GiRxg2Xzt3H395CcMSBSnKUWXGUffwK04DbI7PjLhY=s64",
      "userId": "01064352760328716387"
     },
     "user_tz": -330
    },
    "id": "e0pFVAmciHQs",
    "outputId": "b5484dba-65a6-479a-b150-76bd361f461f"
   },
   "outputs": [],
   "source": [
    "from sklearn.ensemble import RandomForestClassifier\n",
    "classifier = RandomForestClassifier(n_estimators = 10, criterion = 'entropy', random_state = 0)\n",
    "# classifier.fit(X_train, y_train)"
   ]
  },
  {
   "cell_type": "code",
   "execution_count": 9,
   "metadata": {},
   "outputs": [],
   "source": [
    "# print(classifier.get_params())"
   ]
  },
  {
   "cell_type": "markdown",
   "metadata": {
    "id": "vKYVQH-l5NpE"
   },
   "source": [
    "## Predicting the Test set results"
   ]
  },
  {
   "cell_type": "code",
   "execution_count": 10,
   "metadata": {
    "colab": {
     "base_uri": "https://localhost:8080/"
    },
    "executionInfo": {
     "elapsed": 21,
     "status": "ok",
     "timestamp": 1628159600152,
     "user": {
      "displayName": "Aadhishrii Patiil",
      "photoUrl": "https://lh3.googleusercontent.com/a-/AOh14GiRxg2Xzt3H395CcMSBSnKUWXGUffwK04DbI7PjLhY=s64",
      "userId": "01064352760328716387"
     },
     "user_tz": -330
    },
    "id": "p6VMTb2O4hwM",
    "outputId": "a8e873c3-590e-4cc7-d750-eb2f38e1cb4d"
   },
   "outputs": [],
   "source": [
    "# y_pred = classifier.predict(X_test)"
   ]
  },
  {
   "cell_type": "markdown",
   "metadata": {
    "id": "h4Hwj34ziWQW"
   },
   "source": [
    "## Making the Confusion Matrix"
   ]
  },
  {
   "cell_type": "code",
   "execution_count": 11,
   "metadata": {
    "colab": {
     "base_uri": "https://localhost:8080/"
    },
    "executionInfo": {
     "elapsed": 19,
     "status": "ok",
     "timestamp": 1628159600153,
     "user": {
      "displayName": "Aadhishrii Patiil",
      "photoUrl": "https://lh3.googleusercontent.com/a-/AOh14GiRxg2Xzt3H395CcMSBSnKUWXGUffwK04DbI7PjLhY=s64",
      "userId": "01064352760328716387"
     },
     "user_tz": -330
    },
    "id": "D6bpZwUiiXic",
    "outputId": "cc8ae9c9-204c-4d5c-cf94-0e36126a6c4b"
   },
   "outputs": [],
   "source": [
    "# from sklearn.metrics import confusion_matrix, accuracy_score\n",
    "# cm = confusion_matrix(y_test, y_pred)\n",
    "# print(cm)\n",
    "# accuracy_score(y_test, y_pred)"
   ]
  },
  {
   "cell_type": "code",
   "execution_count": 12,
   "metadata": {},
   "outputs": [],
   "source": [
    "param_grid = { \n",
    "    'n_estimators': [200, 500],\n",
    "    'max_features': ['auto', 'sqrt', 'log2'],\n",
    "    'max_depth' : [4,5,6,7,8],\n",
    "    'criterion' :['gini', 'entropy']\n",
    "}"
   ]
  },
  {
   "cell_type": "code",
   "execution_count": null,
   "metadata": {},
   "outputs": [],
   "source": [
    "CV_rfc = GridSearchCV(estimator=classifier, param_grid=param_grid, cv= 5)\n",
    "CV_rfc.fit(X_train, y_train)"
   ]
  }
 ],
 "metadata": {
  "colab": {
   "collapsed_sections": [],
   "machine_shape": "hm",
   "name": "random_forest_classification.ipynb",
   "provenance": []
  },
  "kernelspec": {
   "display_name": "Python 3",
   "language": "python",
   "name": "python3"
  },
  "language_info": {
   "codemirror_mode": {
    "name": "ipython",
    "version": 3
   },
   "file_extension": ".py",
   "mimetype": "text/x-python",
   "name": "python",
   "nbconvert_exporter": "python",
   "pygments_lexer": "ipython3",
   "version": "3.8.8"
  }
 },
 "nbformat": 4,
 "nbformat_minor": 1
}
