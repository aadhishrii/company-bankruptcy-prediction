{
 "cells": [
  {
   "cell_type": "markdown",
   "metadata": {
    "id": "0MRC0e0KhQ0S"
   },
   "source": [
    "# Decision Tree Classification"
   ]
  },
  {
   "cell_type": "markdown",
   "metadata": {
    "id": "LWd1UlMnhT2s"
   },
   "source": [
    "## Importing the libraries"
   ]
  },
  {
   "cell_type": "code",
   "execution_count": 400,
   "metadata": {
    "executionInfo": {
     "elapsed": 517,
     "status": "ok",
     "timestamp": 1628159594590,
     "user": {
      "displayName": "Aadhishrii Patiil",
      "photoUrl": "https://lh3.googleusercontent.com/a-/AOh14GiRxg2Xzt3H395CcMSBSnKUWXGUffwK04DbI7PjLhY=s64",
      "userId": "01064352760328716387"
     },
     "user_tz": -330
    },
    "id": "YvGPUQaHhXfL"
   },
   "outputs": [],
   "source": [
    "import numpy as np\n",
    "import matplotlib.pyplot as plt\n",
    "import pandas as d\n",
    "from sklearn.metrics import precision_recall_curve\n",
    "from sklearn.model_selection import GridSearchCV\n",
    "from sklearn.metrics import classification_report"
   ]
  },
  {
   "cell_type": "markdown",
   "metadata": {
    "id": "K1VMqkGvhc3-"
   },
   "source": [
    "## Importing the dataset"
   ]
  },
  {
   "cell_type": "code",
   "execution_count": 401,
   "metadata": {
    "executionInfo": {
     "elapsed": 6,
     "status": "ok",
     "timestamp": 1628159595509,
     "user": {
      "displayName": "Aadhishrii Patiil",
      "photoUrl": "https://lh3.googleusercontent.com/a-/AOh14GiRxg2Xzt3H395CcMSBSnKUWXGUffwK04DbI7PjLhY=s64",
      "userId": "01064352760328716387"
     },
     "user_tz": -330
    },
    "id": "M52QDmyzhh9s"
   },
   "outputs": [],
   "source": [
    "dataset = pd.read_csv('data.csv')\n",
    "X = dataset.drop(columns=['Bankrupt?'])\n",
    "y = dataset['Bankrupt?']"
   ]
  },
  {
   "cell_type": "code",
   "execution_count": 402,
   "metadata": {},
   "outputs": [],
   "source": [
    "first_5 = X.loc[:, [' Borrowing dependency',\n",
    " ' Persistent EPS in the Last Four Seasons',\n",
    " ' Allocation rate per person',\n",
    " ' Net Income to Total Assets',\n",
    " ' Continuous interest rate (after tax)']]"
   ]
  },
  {
   "cell_type": "code",
   "execution_count": 403,
   "metadata": {},
   "outputs": [],
   "source": [
    "first_10 = X.loc[: , [' Borrowing dependency',\n",
    " ' Persistent EPS in the Last Four Seasons',\n",
    " ' Allocation rate per person',\n",
    " ' Net Income to Total Assets',\n",
    " ' Continuous interest rate (after tax)',\n",
    " ' Quick Ratio',\n",
    " ' Non-industry income and expenditure/revenue',\n",
    " ' Cash Flow to Total Assets',\n",
    " ' Inventory/Working Capital',\n",
    " ' Interest-bearing debt interest rate']]"
   ]
  },
  {
   "cell_type": "code",
   "execution_count": 404,
   "metadata": {},
   "outputs": [],
   "source": [
    "non_0 = X.loc[:, [' Borrowing dependency',\n",
    " ' Persistent EPS in the Last Four Seasons',\n",
    " ' Continuous interest rate (after tax)',\n",
    " ' Quick Ratio',\n",
    " ' Net Income to Total Assets',\n",
    " ' Non-industry income and expenditure/revenue',\n",
    " ' Cash Flow to Total Assets',\n",
    " ' Allocation rate per person',\n",
    " ' Inventory/Working Capital',\n",
    " ' Average Collection Days',\n",
    " ' Interest-bearing debt interest rate',\n",
    " ' Inventory Turnover Rate (times)',\n",
    " ' Fixed Assets Turnover Frequency',\n",
    " ' Operating Profit Per Share (Yuan ¥)',\n",
    " ' Operating Profit Rate',\n",
    " ' Current Liability to Liability',\n",
    " ' ROA(B) before interest and depreciation after tax',\n",
    " ' Realized Sales Gross Profit Growth Rate',\n",
    " ' Revenue Per Share (Yuan ¥)',\n",
    " ' Cash/Total Assets',\n",
    " ' Total Asset Growth Rate',\n",
    " ' Accounts Receivable Turnover',\n",
    " ' Total expense/Assets',\n",
    " ' Cash Flow to Sales',\n",
    " ' Cash Flow Per Share',\n",
    " ' Cash Flow to Equity',\n",
    " ' Current Assets/Total Assets',\n",
    " ' Operating profit per person',\n",
    " ' Current Asset Turnover Rate',\n",
    " ' Research and development expense rate',\n",
    " ' Interest Expense Ratio',\n",
    " ' No-credit Interval',\n",
    " ' Inventory/Current Liability',\n",
    " ' Net worth/Assets',\n",
    " ' Operating profit/Paid-in capital',\n",
    " ' Net Value Growth Rate',\n",
    " ' Interest Coverage Ratio (Interest expense to EBIT)',\n",
    " ' Quick Assets/Current Liability',\n",
    " ' Inventory and accounts receivable/Net value',\n",
    " ' Operating Expense Rate',\n",
    " ' Retained Earnings to Total Assets',\n",
    " ' Total Asset Return Growth Rate Ratio',\n",
    " ' Total income/Total expense',\n",
    " ' Revenue per person',\n",
    " ' Cash Turnover Rate',\n",
    " ' Degree of Financial Leverage (DFL)',\n",
    " ' Contingent liabilities/Net worth',\n",
    " ' Quick Assets/Total Assets',\n",
    " ' Quick Asset Turnover Rate']]"
   ]
  },
  {
   "cell_type": "markdown",
   "metadata": {
    "id": "YvxIPVyMhmKp"
   },
   "source": [
    "## Splitting the dataset into the Training set and Test set"
   ]
  },
  {
   "cell_type": "code",
   "execution_count": 405,
   "metadata": {
    "executionInfo": {
     "elapsed": 601,
     "status": "ok",
     "timestamp": 1628159596106,
     "user": {
      "displayName": "Aadhishrii Patiil",
      "photoUrl": "https://lh3.googleusercontent.com/a-/AOh14GiRxg2Xzt3H395CcMSBSnKUWXGUffwK04DbI7PjLhY=s64",
      "userId": "01064352760328716387"
     },
     "user_tz": -330
    },
    "id": "AVzJWAXIhxoC"
   },
   "outputs": [],
   "source": [
    "from sklearn.model_selection import train_test_split\n",
    "X_train, X_test, y_train, y_test = train_test_split(X, y, test_size = 0.25, random_state = 0)\n",
    "# X_train, X_test, y_train, y_test = train_test_split(first_5, y, test_size = 0.25, random_state = 0)\n",
    "# X_train, X_test, y_train, y_test = train_test_split(first_10, y, test_size = 0.25, random_state = 0)\n",
    "# X_train, X_test, y_train, y_test = train_test_split(non_0, y, test_size = 0.25, random_state = 0)"
   ]
  },
  {
   "cell_type": "code",
   "execution_count": 406,
   "metadata": {},
   "outputs": [
    {
     "data": {
      "text/plain": [
       "pandas.core.frame.DataFrame"
      ]
     },
     "execution_count": 406,
     "metadata": {},
     "output_type": "execute_result"
    }
   ],
   "source": [
    "type(X)"
   ]
  },
  {
   "cell_type": "code",
   "execution_count": 407,
   "metadata": {
    "colab": {
     "base_uri": "https://localhost:8080/"
    },
    "executionInfo": {
     "elapsed": 64,
     "status": "ok",
     "timestamp": 1628159596107,
     "user": {
      "displayName": "Aadhishrii Patiil",
      "photoUrl": "https://lh3.googleusercontent.com/a-/AOh14GiRxg2Xzt3H395CcMSBSnKUWXGUffwK04DbI7PjLhY=s64",
      "userId": "01064352760328716387"
     },
     "user_tz": -330
    },
    "id": "P3nS3-6r1i2B",
    "outputId": "228689a5-9584-48b9-bb18-409b256830e2"
   },
   "outputs": [
    {
     "data": {
      "text/plain": [
       "pandas.core.frame.DataFrame"
      ]
     },
     "execution_count": 407,
     "metadata": {},
     "output_type": "execute_result"
    }
   ],
   "source": [
    "type(X_train)"
   ]
  },
  {
   "cell_type": "code",
   "execution_count": 408,
   "metadata": {
    "colab": {
     "base_uri": "https://localhost:8080/"
    },
    "executionInfo": {
     "elapsed": 46,
     "status": "ok",
     "timestamp": 1628159596108,
     "user": {
      "displayName": "Aadhishrii Patiil",
      "photoUrl": "https://lh3.googleusercontent.com/a-/AOh14GiRxg2Xzt3H395CcMSBSnKUWXGUffwK04DbI7PjLhY=s64",
      "userId": "01064352760328716387"
     },
     "user_tz": -330
    },
    "id": "8dpDLojm1mVG",
    "outputId": "3b4cd192-034e-4e89-c36e-1625ec023839"
   },
   "outputs": [
    {
     "name": "stdout",
     "output_type": "stream",
     "text": [
      "2303    0\n",
      "3719    0\n",
      "5893    0\n",
      "4063    0\n",
      "3989    0\n",
      "       ..\n",
      "4931    0\n",
      "3264    0\n",
      "1653    0\n",
      "2607    0\n",
      "2732    0\n",
      "Name: Bankrupt?, Length: 5114, dtype: int64\n"
     ]
    }
   ],
   "source": [
    "print(y_train)"
   ]
  },
  {
   "cell_type": "code",
   "execution_count": 409,
   "metadata": {
    "colab": {
     "base_uri": "https://localhost:8080/"
    },
    "executionInfo": {
     "elapsed": 41,
     "status": "ok",
     "timestamp": 1628159596109,
     "user": {
      "displayName": "Aadhishrii Patiil",
      "photoUrl": "https://lh3.googleusercontent.com/a-/AOh14GiRxg2Xzt3H395CcMSBSnKUWXGUffwK04DbI7PjLhY=s64",
      "userId": "01064352760328716387"
     },
     "user_tz": -330
    },
    "id": "qbb7i0DH1qui",
    "outputId": "de9b831a-99ce-4efc-d40b-da2b644c5b2c"
   },
   "outputs": [
    {
     "name": "stdout",
     "output_type": "stream",
     "text": [
      "       ROA(C) before interest and depreciation before interest  \\\n",
      "4929                                           0.481207          \n",
      "6424                                           0.501828          \n",
      "3807                                           0.517574          \n",
      "2011                                           0.521669          \n",
      "6728                                           0.492176          \n",
      "...                                                 ...          \n",
      "3180                                           0.456686          \n",
      "6112                                           0.598986          \n",
      "4490                                           0.501682          \n",
      "4617                                           0.512846          \n",
      "6526                                           0.540340          \n",
      "\n",
      "       ROA(A) before interest and % after tax  \\\n",
      "4929                                 0.469418   \n",
      "6424                                 0.557894   \n",
      "3807                                 0.537505   \n",
      "2011                                 0.596162   \n",
      "6728                                 0.544320   \n",
      "...                                       ...   \n",
      "3180                                 0.514937   \n",
      "6112                                 0.647732   \n",
      "4490                                 0.559474   \n",
      "4617                                 0.565580   \n",
      "6526                                 0.607719   \n",
      "\n",
      "       ROA(B) before interest and depreciation after tax  \\\n",
      "4929                                           0.513143    \n",
      "6424                                           0.552706    \n",
      "3807                                           0.559880    \n",
      "2011                                           0.580491    \n",
      "6728                                           0.533326    \n",
      "...                                                 ...    \n",
      "3180                                           0.503292    \n",
      "6112                                           0.636544    \n",
      "4490                                           0.562503    \n",
      "4617                                           0.553884    \n",
      "6526                                           0.600246    \n",
      "\n",
      "       Operating Gross Margin   Realized Sales Gross Margin  \\\n",
      "4929                 0.596679                      0.596679   \n",
      "6424                 0.613644                      0.613644   \n",
      "3807                 0.598351                      0.598351   \n",
      "2011                 0.599101                      0.599108   \n",
      "6728                 0.618105                      0.618105   \n",
      "...                       ...                           ...   \n",
      "3180                 0.614192                      0.614192   \n",
      "6112                 0.627921                      0.627921   \n",
      "4490                 0.597875                      0.597875   \n",
      "4617                 0.610682                      0.610660   \n",
      "6526                 0.632028                      0.632028   \n",
      "\n",
      "       Operating Profit Rate   Pre-tax net Interest Rate  \\\n",
      "4929                0.998884                    0.797144   \n",
      "6424                0.999065                    0.797463   \n",
      "3807                0.998982                    0.797410   \n",
      "2011                0.999007                    0.797459   \n",
      "6728                0.999083                    0.797456   \n",
      "...                      ...                         ...   \n",
      "3180                0.998035                    0.796751   \n",
      "6112                0.999380                    0.797898   \n",
      "4490                0.998967                    0.797407   \n",
      "4617                0.999097                    0.797481   \n",
      "6526                0.999089                    0.797592   \n",
      "\n",
      "       After-tax net Interest Rate  \\\n",
      "4929                      0.809037   \n",
      "6424                      0.809380   \n",
      "3807                      0.809328   \n",
      "2011                      0.809386   \n",
      "6728                      0.809338   \n",
      "...                            ...   \n",
      "3180                      0.808558   \n",
      "6112                      0.809706   \n",
      "4490                      0.809338   \n",
      "4617                      0.809373   \n",
      "6526                      0.809506   \n",
      "\n",
      "       Non-industry income and expenditure/revenue  \\\n",
      "4929                                      0.303275   \n",
      "6424                                      0.303451   \n",
      "3807                                      0.303533   \n",
      "2011                                      0.303566   \n",
      "6728                                      0.303401   \n",
      "...                                            ...   \n",
      "3180                                      0.304362   \n",
      "6112                                      0.303552   \n",
      "4490                                      0.303559   \n",
      "4617                                      0.303417   \n",
      "6526                                      0.303626   \n",
      "\n",
      "       Continuous interest rate (after tax)  ...   Net Income to Total Assets  \\\n",
      "4929                               0.781412  ...                     0.752604   \n",
      "6424                               0.781650  ...                     0.811104   \n",
      "3807                               0.781589  ...                     0.799854   \n",
      "2011                               0.781650  ...                     0.830860   \n",
      "6728                               0.781598  ...                     0.800780   \n",
      "...                                     ...  ...                          ...   \n",
      "3180                               0.780757  ...                     0.786847   \n",
      "6112                               0.781998  ...                     0.858316   \n",
      "4490                               0.781611  ...                     0.810129   \n",
      "4617                               0.781642  ...                     0.812111   \n",
      "6526                               0.781779  ...                     0.840295   \n",
      "\n",
      "       Total assets to GNP price   No-credit Interval   Gross Profit to Sales  \\\n",
      "4929                    0.004379             0.623901                0.596676   \n",
      "6424                    0.000284             0.624245                0.613641   \n",
      "3807                    0.004069             0.623623                0.598350   \n",
      "2011                    0.000933             0.624690                0.599099   \n",
      "6728                    0.000517             0.623737                0.618104   \n",
      "...                          ...                  ...                     ...   \n",
      "3180                    0.000356             0.625703                0.614187   \n",
      "6112                    0.003652             0.624658                0.627921   \n",
      "4490                    0.001178             0.623233                0.597875   \n",
      "4617                    0.000927             0.623734                0.610681   \n",
      "6526                    0.000472             0.623987                0.632026   \n",
      "\n",
      "       Net Income to Stockholder's Equity   Liability to Equity  \\\n",
      "4929                             0.837323              0.277101   \n",
      "6424                             0.841104              0.278183   \n",
      "3807                             0.840260              0.276186   \n",
      "2011                             0.842316              0.277461   \n",
      "6728                             0.840533              0.282763   \n",
      "...                                   ...                   ...   \n",
      "3180                             0.839615              0.274792   \n",
      "6112                             0.844390              0.278117   \n",
      "4490                             0.841756              0.285503   \n",
      "4617                             0.841383              0.280035   \n",
      "6526                             0.842484              0.276008   \n",
      "\n",
      "       Degree of Financial Leverage (DFL)  \\\n",
      "4929                             0.026709   \n",
      "6424                             0.026791   \n",
      "3807                             0.026882   \n",
      "2011                             0.026932   \n",
      "6728                             0.027033   \n",
      "...                                   ...   \n",
      "3180                             0.026791   \n",
      "6112                             0.026819   \n",
      "4490                             0.027047   \n",
      "4617                             0.026890   \n",
      "6526                             0.026791   \n",
      "\n",
      "       Interest Coverage Ratio (Interest expense to EBIT)   Net Income Flag  \\\n",
      "4929                                           0.564731                   1   \n",
      "6424                                           0.565158                   1   \n",
      "3807                                           0.565555                   1   \n",
      "2011                                           0.565750                   1   \n",
      "6728                                           0.566098                   1   \n",
      "...                                                 ...                 ...   \n",
      "3180                                           0.565158                   1   \n",
      "6112                                           0.565287                   1   \n",
      "4490                                           0.566140                   1   \n",
      "4617                                           0.565588                   1   \n",
      "6526                                           0.565158                   1   \n",
      "\n",
      "       Equity to Liability  \n",
      "4929              0.050237  \n",
      "6424              0.037879  \n",
      "3807              0.074581  \n",
      "2011              0.045051  \n",
      "6728              0.022209  \n",
      "...                    ...  \n",
      "3180              0.881018  \n",
      "6112              0.038407  \n",
      "4490              0.019177  \n",
      "4617              0.028312  \n",
      "6526              0.083205  \n",
      "\n",
      "[1705 rows x 95 columns]\n"
     ]
    }
   ],
   "source": [
    "print(X_test)"
   ]
  },
  {
   "cell_type": "code",
   "execution_count": 410,
   "metadata": {
    "colab": {
     "base_uri": "https://localhost:8080/"
    },
    "executionInfo": {
     "elapsed": 37,
     "status": "ok",
     "timestamp": 1628159596110,
     "user": {
      "displayName": "Aadhishrii Patiil",
      "photoUrl": "https://lh3.googleusercontent.com/a-/AOh14GiRxg2Xzt3H395CcMSBSnKUWXGUffwK04DbI7PjLhY=s64",
      "userId": "01064352760328716387"
     },
     "user_tz": -330
    },
    "id": "kj1hnFAR1s5w",
    "outputId": "e64d988e-0215-471c-aacc-1740eb5d1be0"
   },
   "outputs": [
    {
     "name": "stdout",
     "output_type": "stream",
     "text": [
      "4929    0\n",
      "6424    0\n",
      "3807    0\n",
      "2011    0\n",
      "6728    1\n",
      "       ..\n",
      "3180    0\n",
      "6112    0\n",
      "4490    0\n",
      "4617    0\n",
      "6526    0\n",
      "Name: Bankrupt?, Length: 1705, dtype: int64\n"
     ]
    }
   ],
   "source": [
    "print(y_test)"
   ]
  },
  {
   "cell_type": "markdown",
   "metadata": {
    "id": "bb6jCOCQiAmP"
   },
   "source": [
    "## Training the Decision Tree Classification model on the Training set"
   ]
  },
  {
   "cell_type": "code",
   "execution_count": 411,
   "metadata": {
    "colab": {
     "base_uri": "https://localhost:8080/"
    },
    "executionInfo": {
     "elapsed": 23,
     "status": "ok",
     "timestamp": 1628159596116,
     "user": {
      "displayName": "Aadhishrii Patiil",
      "photoUrl": "https://lh3.googleusercontent.com/a-/AOh14GiRxg2Xzt3H395CcMSBSnKUWXGUffwK04DbI7PjLhY=s64",
      "userId": "01064352760328716387"
     },
     "user_tz": -330
    },
    "id": "e0pFVAmciHQs",
    "outputId": "ecbd9dab-3261-4c32-f99e-98c8e9595299"
   },
   "outputs": [
    {
     "data": {
      "text/plain": [
       "DecisionTreeClassifier(criterion='entropy', random_state=0)"
      ]
     },
     "execution_count": 411,
     "metadata": {},
     "output_type": "execute_result"
    }
   ],
   "source": [
    "from sklearn.tree import DecisionTreeClassifier\n",
    "classifier = DecisionTreeClassifier(criterion = 'entropy', random_state = 0)\n",
    "classifier.fit(X_train, y_train)"
   ]
  },
  {
   "cell_type": "code",
   "execution_count": 412,
   "metadata": {},
   "outputs": [],
   "source": [
    "df = pd.Series(classifier.feature_importances_, index=X_train.columns).sort_values(ascending=False)"
   ]
  },
  {
   "cell_type": "code",
   "execution_count": 413,
   "metadata": {},
   "outputs": [
    {
     "data": {
      "text/plain": [
       " Borrowing dependency                       0.229769\n",
       " Persistent EPS in the Last Four Seasons    0.131620\n",
       " Allocation rate per person                 0.033865\n",
       " Net Income to Total Assets                 0.032755\n",
       " Continuous interest rate (after tax)       0.031397\n",
       "                                              ...   \n",
       " Net Worth Turnover Rate (times)            0.000000\n",
       " Working Capital to Total Assets            0.000000\n",
       " Operating Funds to Liability               0.000000\n",
       " Current Liabilities/Liability              0.000000\n",
       " Equity to Liability                        0.000000\n",
       "Length: 95, dtype: float64"
      ]
     },
     "execution_count": 413,
     "metadata": {},
     "output_type": "execute_result"
    }
   ],
   "source": [
    "df"
   ]
  },
  {
   "cell_type": "code",
   "execution_count": 414,
   "metadata": {},
   "outputs": [
    {
     "data": {
      "text/plain": [
       "[' Borrowing dependency',\n",
       " ' Persistent EPS in the Last Four Seasons',\n",
       " ' Allocation rate per person',\n",
       " ' Net Income to Total Assets',\n",
       " ' Continuous interest rate (after tax)',\n",
       " ' Quick Ratio',\n",
       " ' Non-industry income and expenditure/revenue',\n",
       " ' Cash Flow to Total Assets',\n",
       " ' Inventory/Working Capital',\n",
       " ' Interest-bearing debt interest rate',\n",
       " ' Inventory Turnover Rate (times)',\n",
       " ' Average Collection Days',\n",
       " ' Realized Sales Gross Profit Growth Rate',\n",
       " ' Fixed Assets Turnover Frequency',\n",
       " ' Operating Profit Rate',\n",
       " ' Current Liability to Liability',\n",
       " ' ROA(B) before interest and depreciation after tax',\n",
       " ' No-credit Interval',\n",
       " ' Operating Profit Per Share (Yuan ¥)',\n",
       " ' Cash/Total Assets',\n",
       " ' Total Asset Growth Rate',\n",
       " ' Accounts Receivable Turnover',\n",
       " ' Cash Flow to Sales',\n",
       " ' Inventory and accounts receivable/Net value',\n",
       " ' Revenue per person',\n",
       " ' Interest Expense Ratio',\n",
       " ' Total income/Total expense',\n",
       " ' Inventory/Current Liability',\n",
       " ' Revenue Per Share (Yuan ¥)',\n",
       " ' Net worth/Assets',\n",
       " ' Operating profit/Paid-in capital',\n",
       " ' CFO to Assets',\n",
       " ' Cash Flow to Equity',\n",
       " ' Net Value Growth Rate',\n",
       " ' Current Assets/Total Assets',\n",
       " ' Interest Coverage Ratio (Interest expense to EBIT)',\n",
       " ' Quick Assets/Current Liability',\n",
       " ' Operating Profit Growth Rate',\n",
       " ' Operating Expense Rate',\n",
       " ' Current Asset Turnover Rate',\n",
       " ' Total expense/Assets',\n",
       " ' Current Liability to Assets',\n",
       " ' Research and development expense rate',\n",
       " ' Retained Earnings to Total Assets',\n",
       " ' Cash Flow Per Share',\n",
       " ' Operating profit per person',\n",
       " ' Total Asset Return Growth Rate Ratio',\n",
       " ' Equity to Long-term Liability',\n",
       " ' Degree of Financial Leverage (DFL)',\n",
       " ' Contingent liabilities/Net worth',\n",
       " ' Cash Turnover Rate',\n",
       " ' Cash Flow to Liability',\n",
       " ' Cash/Current Liability',\n",
       " ' Quick Assets/Total Assets',\n",
       " ' Quick Asset Turnover Rate',\n",
       " ' Long-term Liability to Current Assets',\n",
       " ' Net Income Flag',\n",
       " ' Current Liability to Current Assets',\n",
       " ' Working capitcal Turnover Rate',\n",
       " ' Liability-Assets Flag',\n",
       " ' Current Liability to Equity',\n",
       " \" Net Income to Stockholder's Equity\",\n",
       " ' Liability to Equity',\n",
       " ' Total assets to GNP price',\n",
       " ' Gross Profit to Sales',\n",
       " ' Fixed Assets to Assets',\n",
       " ' ROA(C) before interest and depreciation before interest',\n",
       " ' Current Liabilities/Equity',\n",
       " ' Working Capital/Equity',\n",
       " ' Operating Gross Margin',\n",
       " ' Realized Sales Gross Margin',\n",
       " ' Pre-tax net Interest Rate',\n",
       " ' After-tax net Interest Rate',\n",
       " ' Cash flow rate',\n",
       " ' Tax rate (A)',\n",
       " ' Net Value Per Share (B)',\n",
       " ' Net Value Per Share (A)',\n",
       " ' Net Value Per Share (C)',\n",
       " ' Per Share Net profit before tax (Yuan ¥)',\n",
       " ' After-tax Net Profit Growth Rate',\n",
       " ' Regular Net Profit Growth Rate',\n",
       " ' Continuous Net Profit Growth Rate',\n",
       " ' Cash Reinvestment %',\n",
       " ' Current Ratio',\n",
       " ' Total debt/Total net worth',\n",
       " ' Debt ratio %',\n",
       " ' Long-term fund suitability ratio (A)',\n",
       " ' Net profit before tax/Paid-in capital',\n",
       " ' Total Asset Turnover',\n",
       " ' ROA(A) before interest and % after tax',\n",
       " ' Net Worth Turnover Rate (times)',\n",
       " ' Working Capital to Total Assets',\n",
       " ' Operating Funds to Liability',\n",
       " ' Current Liabilities/Liability',\n",
       " ' Equity to Liability']"
      ]
     },
     "execution_count": 414,
     "metadata": {},
     "output_type": "execute_result"
    }
   ],
   "source": [
    "list(df.index)"
   ]
  },
  {
   "cell_type": "code",
   "execution_count": 415,
   "metadata": {},
   "outputs": [
    {
     "data": {
      "text/plain": [
       "array([0.22976896, 0.13162049, 0.03386472, 0.0327546 , 0.03139728,\n",
       "       0.02901493, 0.02705448, 0.02251439, 0.02205125, 0.02120905,\n",
       "       0.01958888, 0.01894249, 0.01710246, 0.01685902, 0.01683712,\n",
       "       0.01654042, 0.01591358, 0.01458814, 0.01404032, 0.013531  ,\n",
       "       0.01332423, 0.01292363, 0.01189178, 0.0104841 , 0.00974488,\n",
       "       0.00905191, 0.00876444, 0.00840445, 0.0081932 , 0.00811984,\n",
       "       0.00794932, 0.0079452 , 0.00780216, 0.00773266, 0.00770767,\n",
       "       0.00733958, 0.00728976, 0.0067708 , 0.00673088, 0.00667971,\n",
       "       0.00645057, 0.00622045, 0.00609572, 0.00606863, 0.00605822,\n",
       "       0.00582782, 0.00578889, 0.00566651, 0.00535765, 0.00527498,\n",
       "       0.00526638, 0.004284  , 0.0033854 , 0.00304352, 0.00258375,\n",
       "       0.00258375, 0.        , 0.        , 0.        , 0.        ,\n",
       "       0.        , 0.        , 0.        , 0.        , 0.        ,\n",
       "       0.        , 0.        , 0.        , 0.        , 0.        ,\n",
       "       0.        , 0.        , 0.        , 0.        , 0.        ,\n",
       "       0.        , 0.        , 0.        , 0.        , 0.        ,\n",
       "       0.        , 0.        , 0.        , 0.        , 0.        ,\n",
       "       0.        , 0.        , 0.        , 0.        , 0.        ,\n",
       "       0.        , 0.        , 0.        , 0.        , 0.        ])"
      ]
     },
     "execution_count": 415,
     "metadata": {},
     "output_type": "execute_result"
    }
   ],
   "source": [
    "df.values"
   ]
  },
  {
   "cell_type": "code",
   "execution_count": 416,
   "metadata": {},
   "outputs": [],
   "source": [
    "df = df.to_frame().reset_index()"
   ]
  },
  {
   "cell_type": "code",
   "execution_count": 417,
   "metadata": {},
   "outputs": [],
   "source": [
    "df.columns = ['Features', 'Value']"
   ]
  },
  {
   "cell_type": "code",
   "execution_count": 418,
   "metadata": {},
   "outputs": [
    {
     "data": {
      "text/html": [
       "<div>\n",
       "<style scoped>\n",
       "    .dataframe tbody tr th:only-of-type {\n",
       "        vertical-align: middle;\n",
       "    }\n",
       "\n",
       "    .dataframe tbody tr th {\n",
       "        vertical-align: top;\n",
       "    }\n",
       "\n",
       "    .dataframe thead th {\n",
       "        text-align: right;\n",
       "    }\n",
       "</style>\n",
       "<table border=\"1\" class=\"dataframe\">\n",
       "  <thead>\n",
       "    <tr style=\"text-align: right;\">\n",
       "      <th></th>\n",
       "      <th>Features</th>\n",
       "      <th>Value</th>\n",
       "    </tr>\n",
       "  </thead>\n",
       "  <tbody>\n",
       "    <tr>\n",
       "      <th>0</th>\n",
       "      <td>Borrowing dependency</td>\n",
       "      <td>0.229769</td>\n",
       "    </tr>\n",
       "    <tr>\n",
       "      <th>1</th>\n",
       "      <td>Persistent EPS in the Last Four Seasons</td>\n",
       "      <td>0.131620</td>\n",
       "    </tr>\n",
       "    <tr>\n",
       "      <th>2</th>\n",
       "      <td>Allocation rate per person</td>\n",
       "      <td>0.033865</td>\n",
       "    </tr>\n",
       "    <tr>\n",
       "      <th>3</th>\n",
       "      <td>Net Income to Total Assets</td>\n",
       "      <td>0.032755</td>\n",
       "    </tr>\n",
       "    <tr>\n",
       "      <th>4</th>\n",
       "      <td>Continuous interest rate (after tax)</td>\n",
       "      <td>0.031397</td>\n",
       "    </tr>\n",
       "    <tr>\n",
       "      <th>5</th>\n",
       "      <td>Quick Ratio</td>\n",
       "      <td>0.029015</td>\n",
       "    </tr>\n",
       "    <tr>\n",
       "      <th>6</th>\n",
       "      <td>Non-industry income and expenditure/revenue</td>\n",
       "      <td>0.027054</td>\n",
       "    </tr>\n",
       "    <tr>\n",
       "      <th>7</th>\n",
       "      <td>Cash Flow to Total Assets</td>\n",
       "      <td>0.022514</td>\n",
       "    </tr>\n",
       "    <tr>\n",
       "      <th>8</th>\n",
       "      <td>Inventory/Working Capital</td>\n",
       "      <td>0.022051</td>\n",
       "    </tr>\n",
       "    <tr>\n",
       "      <th>9</th>\n",
       "      <td>Interest-bearing debt interest rate</td>\n",
       "      <td>0.021209</td>\n",
       "    </tr>\n",
       "    <tr>\n",
       "      <th>10</th>\n",
       "      <td>Inventory Turnover Rate (times)</td>\n",
       "      <td>0.019589</td>\n",
       "    </tr>\n",
       "    <tr>\n",
       "      <th>11</th>\n",
       "      <td>Average Collection Days</td>\n",
       "      <td>0.018942</td>\n",
       "    </tr>\n",
       "    <tr>\n",
       "      <th>12</th>\n",
       "      <td>Realized Sales Gross Profit Growth Rate</td>\n",
       "      <td>0.017102</td>\n",
       "    </tr>\n",
       "    <tr>\n",
       "      <th>13</th>\n",
       "      <td>Fixed Assets Turnover Frequency</td>\n",
       "      <td>0.016859</td>\n",
       "    </tr>\n",
       "    <tr>\n",
       "      <th>14</th>\n",
       "      <td>Operating Profit Rate</td>\n",
       "      <td>0.016837</td>\n",
       "    </tr>\n",
       "    <tr>\n",
       "      <th>15</th>\n",
       "      <td>Current Liability to Liability</td>\n",
       "      <td>0.016540</td>\n",
       "    </tr>\n",
       "    <tr>\n",
       "      <th>16</th>\n",
       "      <td>ROA(B) before interest and depreciation after...</td>\n",
       "      <td>0.015914</td>\n",
       "    </tr>\n",
       "    <tr>\n",
       "      <th>17</th>\n",
       "      <td>No-credit Interval</td>\n",
       "      <td>0.014588</td>\n",
       "    </tr>\n",
       "    <tr>\n",
       "      <th>18</th>\n",
       "      <td>Operating Profit Per Share (Yuan ¥)</td>\n",
       "      <td>0.014040</td>\n",
       "    </tr>\n",
       "    <tr>\n",
       "      <th>19</th>\n",
       "      <td>Cash/Total Assets</td>\n",
       "      <td>0.013531</td>\n",
       "    </tr>\n",
       "    <tr>\n",
       "      <th>20</th>\n",
       "      <td>Total Asset Growth Rate</td>\n",
       "      <td>0.013324</td>\n",
       "    </tr>\n",
       "    <tr>\n",
       "      <th>21</th>\n",
       "      <td>Accounts Receivable Turnover</td>\n",
       "      <td>0.012924</td>\n",
       "    </tr>\n",
       "    <tr>\n",
       "      <th>22</th>\n",
       "      <td>Cash Flow to Sales</td>\n",
       "      <td>0.011892</td>\n",
       "    </tr>\n",
       "    <tr>\n",
       "      <th>23</th>\n",
       "      <td>Inventory and accounts receivable/Net value</td>\n",
       "      <td>0.010484</td>\n",
       "    </tr>\n",
       "    <tr>\n",
       "      <th>24</th>\n",
       "      <td>Revenue per person</td>\n",
       "      <td>0.009745</td>\n",
       "    </tr>\n",
       "    <tr>\n",
       "      <th>25</th>\n",
       "      <td>Interest Expense Ratio</td>\n",
       "      <td>0.009052</td>\n",
       "    </tr>\n",
       "    <tr>\n",
       "      <th>26</th>\n",
       "      <td>Total income/Total expense</td>\n",
       "      <td>0.008764</td>\n",
       "    </tr>\n",
       "    <tr>\n",
       "      <th>27</th>\n",
       "      <td>Inventory/Current Liability</td>\n",
       "      <td>0.008404</td>\n",
       "    </tr>\n",
       "    <tr>\n",
       "      <th>28</th>\n",
       "      <td>Revenue Per Share (Yuan ¥)</td>\n",
       "      <td>0.008193</td>\n",
       "    </tr>\n",
       "    <tr>\n",
       "      <th>29</th>\n",
       "      <td>Net worth/Assets</td>\n",
       "      <td>0.008120</td>\n",
       "    </tr>\n",
       "    <tr>\n",
       "      <th>30</th>\n",
       "      <td>Operating profit/Paid-in capital</td>\n",
       "      <td>0.007949</td>\n",
       "    </tr>\n",
       "    <tr>\n",
       "      <th>31</th>\n",
       "      <td>CFO to Assets</td>\n",
       "      <td>0.007945</td>\n",
       "    </tr>\n",
       "    <tr>\n",
       "      <th>32</th>\n",
       "      <td>Cash Flow to Equity</td>\n",
       "      <td>0.007802</td>\n",
       "    </tr>\n",
       "    <tr>\n",
       "      <th>33</th>\n",
       "      <td>Net Value Growth Rate</td>\n",
       "      <td>0.007733</td>\n",
       "    </tr>\n",
       "    <tr>\n",
       "      <th>34</th>\n",
       "      <td>Current Assets/Total Assets</td>\n",
       "      <td>0.007708</td>\n",
       "    </tr>\n",
       "    <tr>\n",
       "      <th>35</th>\n",
       "      <td>Interest Coverage Ratio (Interest expense to ...</td>\n",
       "      <td>0.007340</td>\n",
       "    </tr>\n",
       "    <tr>\n",
       "      <th>36</th>\n",
       "      <td>Quick Assets/Current Liability</td>\n",
       "      <td>0.007290</td>\n",
       "    </tr>\n",
       "    <tr>\n",
       "      <th>37</th>\n",
       "      <td>Operating Profit Growth Rate</td>\n",
       "      <td>0.006771</td>\n",
       "    </tr>\n",
       "    <tr>\n",
       "      <th>38</th>\n",
       "      <td>Operating Expense Rate</td>\n",
       "      <td>0.006731</td>\n",
       "    </tr>\n",
       "    <tr>\n",
       "      <th>39</th>\n",
       "      <td>Current Asset Turnover Rate</td>\n",
       "      <td>0.006680</td>\n",
       "    </tr>\n",
       "    <tr>\n",
       "      <th>40</th>\n",
       "      <td>Total expense/Assets</td>\n",
       "      <td>0.006451</td>\n",
       "    </tr>\n",
       "    <tr>\n",
       "      <th>41</th>\n",
       "      <td>Current Liability to Assets</td>\n",
       "      <td>0.006220</td>\n",
       "    </tr>\n",
       "    <tr>\n",
       "      <th>42</th>\n",
       "      <td>Research and development expense rate</td>\n",
       "      <td>0.006096</td>\n",
       "    </tr>\n",
       "    <tr>\n",
       "      <th>43</th>\n",
       "      <td>Retained Earnings to Total Assets</td>\n",
       "      <td>0.006069</td>\n",
       "    </tr>\n",
       "    <tr>\n",
       "      <th>44</th>\n",
       "      <td>Cash Flow Per Share</td>\n",
       "      <td>0.006058</td>\n",
       "    </tr>\n",
       "    <tr>\n",
       "      <th>45</th>\n",
       "      <td>Operating profit per person</td>\n",
       "      <td>0.005828</td>\n",
       "    </tr>\n",
       "    <tr>\n",
       "      <th>46</th>\n",
       "      <td>Total Asset Return Growth Rate Ratio</td>\n",
       "      <td>0.005789</td>\n",
       "    </tr>\n",
       "    <tr>\n",
       "      <th>47</th>\n",
       "      <td>Equity to Long-term Liability</td>\n",
       "      <td>0.005667</td>\n",
       "    </tr>\n",
       "    <tr>\n",
       "      <th>48</th>\n",
       "      <td>Degree of Financial Leverage (DFL)</td>\n",
       "      <td>0.005358</td>\n",
       "    </tr>\n",
       "    <tr>\n",
       "      <th>49</th>\n",
       "      <td>Contingent liabilities/Net worth</td>\n",
       "      <td>0.005275</td>\n",
       "    </tr>\n",
       "    <tr>\n",
       "      <th>50</th>\n",
       "      <td>Cash Turnover Rate</td>\n",
       "      <td>0.005266</td>\n",
       "    </tr>\n",
       "    <tr>\n",
       "      <th>51</th>\n",
       "      <td>Cash Flow to Liability</td>\n",
       "      <td>0.004284</td>\n",
       "    </tr>\n",
       "    <tr>\n",
       "      <th>52</th>\n",
       "      <td>Cash/Current Liability</td>\n",
       "      <td>0.003385</td>\n",
       "    </tr>\n",
       "    <tr>\n",
       "      <th>53</th>\n",
       "      <td>Quick Assets/Total Assets</td>\n",
       "      <td>0.003044</td>\n",
       "    </tr>\n",
       "    <tr>\n",
       "      <th>54</th>\n",
       "      <td>Quick Asset Turnover Rate</td>\n",
       "      <td>0.002584</td>\n",
       "    </tr>\n",
       "    <tr>\n",
       "      <th>55</th>\n",
       "      <td>Long-term Liability to Current Assets</td>\n",
       "      <td>0.002584</td>\n",
       "    </tr>\n",
       "  </tbody>\n",
       "</table>\n",
       "</div>"
      ],
      "text/plain": [
       "                                             Features     Value\n",
       "0                                Borrowing dependency  0.229769\n",
       "1             Persistent EPS in the Last Four Seasons  0.131620\n",
       "2                          Allocation rate per person  0.033865\n",
       "3                          Net Income to Total Assets  0.032755\n",
       "4                Continuous interest rate (after tax)  0.031397\n",
       "5                                         Quick Ratio  0.029015\n",
       "6         Non-industry income and expenditure/revenue  0.027054\n",
       "7                           Cash Flow to Total Assets  0.022514\n",
       "8                           Inventory/Working Capital  0.022051\n",
       "9                 Interest-bearing debt interest rate  0.021209\n",
       "10                    Inventory Turnover Rate (times)  0.019589\n",
       "11                            Average Collection Days  0.018942\n",
       "12            Realized Sales Gross Profit Growth Rate  0.017102\n",
       "13                    Fixed Assets Turnover Frequency  0.016859\n",
       "14                              Operating Profit Rate  0.016837\n",
       "15                     Current Liability to Liability  0.016540\n",
       "16   ROA(B) before interest and depreciation after...  0.015914\n",
       "17                                 No-credit Interval  0.014588\n",
       "18                Operating Profit Per Share (Yuan ¥)  0.014040\n",
       "19                                  Cash/Total Assets  0.013531\n",
       "20                            Total Asset Growth Rate  0.013324\n",
       "21                       Accounts Receivable Turnover  0.012924\n",
       "22                                 Cash Flow to Sales  0.011892\n",
       "23        Inventory and accounts receivable/Net value  0.010484\n",
       "24                                 Revenue per person  0.009745\n",
       "25                             Interest Expense Ratio  0.009052\n",
       "26                         Total income/Total expense  0.008764\n",
       "27                        Inventory/Current Liability  0.008404\n",
       "28                         Revenue Per Share (Yuan ¥)  0.008193\n",
       "29                                   Net worth/Assets  0.008120\n",
       "30                   Operating profit/Paid-in capital  0.007949\n",
       "31                                      CFO to Assets  0.007945\n",
       "32                                Cash Flow to Equity  0.007802\n",
       "33                              Net Value Growth Rate  0.007733\n",
       "34                        Current Assets/Total Assets  0.007708\n",
       "35   Interest Coverage Ratio (Interest expense to ...  0.007340\n",
       "36                     Quick Assets/Current Liability  0.007290\n",
       "37                       Operating Profit Growth Rate  0.006771\n",
       "38                             Operating Expense Rate  0.006731\n",
       "39                        Current Asset Turnover Rate  0.006680\n",
       "40                               Total expense/Assets  0.006451\n",
       "41                        Current Liability to Assets  0.006220\n",
       "42              Research and development expense rate  0.006096\n",
       "43                  Retained Earnings to Total Assets  0.006069\n",
       "44                                Cash Flow Per Share  0.006058\n",
       "45                        Operating profit per person  0.005828\n",
       "46               Total Asset Return Growth Rate Ratio  0.005789\n",
       "47                      Equity to Long-term Liability  0.005667\n",
       "48                 Degree of Financial Leverage (DFL)  0.005358\n",
       "49                   Contingent liabilities/Net worth  0.005275\n",
       "50                                 Cash Turnover Rate  0.005266\n",
       "51                             Cash Flow to Liability  0.004284\n",
       "52                             Cash/Current Liability  0.003385\n",
       "53                          Quick Assets/Total Assets  0.003044\n",
       "54                          Quick Asset Turnover Rate  0.002584\n",
       "55              Long-term Liability to Current Assets  0.002584"
      ]
     },
     "execution_count": 418,
     "metadata": {},
     "output_type": "execute_result"
    }
   ],
   "source": [
    "df.loc[df.Value > 0, :]"
   ]
  },
  {
   "cell_type": "code",
   "execution_count": 419,
   "metadata": {},
   "outputs": [
    {
     "data": {
      "image/png": "[encoded data removed]",
      "text/plain": [
       "<Figure size 1440x360 with 1 Axes>"
      ]
     },
     "metadata": {
      "needs_background": "light"
     },
     "output_type": "display_data"
    }
   ],
   "source": [
    "plt.figure(figsize=(20,5))\n",
    "_=sns.barplot(data=df, x='Features', y='Value')\n",
    "_=plt.xticks(rotation=90)"
   ]
  },
  {
   "cell_type": "code",
   "execution_count": 420,
   "metadata": {},
   "outputs": [
    {
     "data": {
      "text/plain": [
       "array([0.        , 0.        , 0.01591358, 0.        , 0.        ,\n",
       "       0.01683712, 0.        , 0.        , 0.02705448, 0.03139728,\n",
       "       0.00673088, 0.00609572, 0.        , 0.02120905, 0.        ,\n",
       "       0.        , 0.        , 0.        , 0.13162049, 0.00605822,\n",
       "       0.0081932 , 0.01404032, 0.        , 0.01710246, 0.0067708 ,\n",
       "       0.        , 0.        , 0.        , 0.01332423, 0.00773266,\n",
       "       0.00578889, 0.        , 0.        , 0.02901493, 0.00905191,\n",
       "       0.        , 0.        , 0.00811984, 0.        , 0.22976896,\n",
       "       0.00527498, 0.00794932, 0.        , 0.0104841 , 0.        ,\n",
       "       0.01292363, 0.01894249, 0.01958888, 0.01685902, 0.        ,\n",
       "       0.00974488, 0.00582782, 0.03386472, 0.        , 0.00304352,\n",
       "       0.00770767, 0.013531  , 0.00728976, 0.0033854 , 0.00622045,\n",
       "       0.        , 0.02205125, 0.00840445, 0.        , 0.        ,\n",
       "       0.        , 0.00258375, 0.00606863, 0.00876444, 0.00645057,\n",
       "       0.00667971, 0.00258375, 0.        , 0.00526638, 0.01189178,\n",
       "       0.        , 0.01654042, 0.        , 0.00566651, 0.02251439,\n",
       "       0.004284  , 0.0079452 , 0.00780216, 0.        , 0.        ,\n",
       "       0.0327546 , 0.        , 0.01458814, 0.        , 0.        ,\n",
       "       0.        , 0.00535765, 0.00733958, 0.        , 0.        ])"
      ]
     },
     "execution_count": 420,
     "metadata": {},
     "output_type": "execute_result"
    }
   ],
   "source": [
    "classifier.feature_importances_"
   ]
  },
  {
   "cell_type": "code",
   "execution_count": 421,
   "metadata": {},
   "outputs": [],
   "source": [
    "y_pred_adj = classifier.predict(X_test)"
   ]
  },
  {
   "cell_type": "code",
   "execution_count": 422,
   "metadata": {},
   "outputs": [
    {
     "data": {
      "text/plain": [
       "array([[1., 0.],\n",
       "       [1., 0.],\n",
       "       [1., 0.],\n",
       "       ...,\n",
       "       [1., 0.],\n",
       "       [1., 0.],\n",
       "       [1., 0.]])"
      ]
     },
     "execution_count": 422,
     "metadata": {},
     "output_type": "execute_result"
    }
   ],
   "source": [
    "classifier.predict_proba(X_test)"
   ]
  },
  {
   "cell_type": "code",
   "execution_count": 423,
   "metadata": {},
   "outputs": [],
   "source": [
    "y_pred = classifier.predict_proba(X_test)[:, 1]"
   ]
  },
  {
   "cell_type": "code",
   "execution_count": 424,
   "metadata": {},
   "outputs": [
    {
     "data": {
      "text/plain": [
       "numpy.ndarray"
      ]
     },
     "execution_count": 424,
     "metadata": {},
     "output_type": "execute_result"
    }
   ],
   "source": [
    "y_test_arr = y_test.values\n",
    "type(y_pred)"
   ]
  },
  {
   "cell_type": "code",
   "execution_count": 425,
   "metadata": {},
   "outputs": [],
   "source": [
    "p, r, thresholds = precision_recall_curve(y_test_arr, y_pred)"
   ]
  },
  {
   "cell_type": "code",
   "execution_count": 426,
   "metadata": {},
   "outputs": [],
   "source": [
    "def plot_precision_recall_vs_threshold(precisions, recalls, thresholds):\n",
    "    plt.figure(figsize=(8, 8))\n",
    "    plt.title(\"Precision and Recall Scores as a function of the decision threshold\")\n",
    "    plt.plot(thresholds, precisions[:-1], \"b--\", label=\"Precision\")\n",
    "    plt.plot(thresholds, recalls[:-1], \"g-\", label=\"Recall\")\n",
    "    plt.ylabel(\"Score\")\n",
    "    plt.xlabel(\"Decision Threshold\")\n",
    "    plt.legend(loc='best')"
   ]
  },
  {
   "cell_type": "code",
   "execution_count": 427,
   "metadata": {},
   "outputs": [
    {
     "data": {
      "image/png": "[encoded data removed]",
      "text/plain": [
       "<Figure size 576x576 with 1 Axes>"
      ]
     },
     "metadata": {
      "needs_background": "light"
     },
     "output_type": "display_data"
    }
   ],
   "source": [
    "plot_precision_recall_vs_threshold(p, r, thresholds)"
   ]
  },
  {
   "cell_type": "markdown",
   "metadata": {
    "id": "h4Hwj34ziWQW"
   },
   "source": [
    "## Making the Confusion Matrix"
   ]
  },
  {
   "cell_type": "code",
   "execution_count": 428,
   "metadata": {
    "colab": {
     "base_uri": "https://localhost:8080/"
    },
    "executionInfo": {
     "elapsed": 10,
     "status": "ok",
     "timestamp": 1628159596854,
     "user": {
      "displayName": "Aadhishrii Patiil",
      "photoUrl": "https://lh3.googleusercontent.com/a-/AOh14GiRxg2Xzt3H395CcMSBSnKUWXGUffwK04DbI7PjLhY=s64",
      "userId": "01064352760328716387"
     },
     "user_tz": -330
    },
    "id": "D6bpZwUiiXic",
    "outputId": "65e4aa6b-e156-4abe-d698-eb717edc56d5"
   },
   "outputs": [
    {
     "name": "stdout",
     "output_type": "stream",
     "text": [
      "[[1611   42]\n",
      " [  31   21]]\n",
      "              precision    recall  f1-score   support\n",
      "\n",
      "           0       0.98      0.97      0.98      1653\n",
      "           1       0.33      0.40      0.37        52\n",
      "\n",
      "    accuracy                           0.96      1705\n",
      "   macro avg       0.66      0.69      0.67      1705\n",
      "weighted avg       0.96      0.96      0.96      1705\n",
      "\n"
     ]
    }
   ],
   "source": [
    "from sklearn.metrics import confusion_matrix, accuracy_score, classification_report\n",
    "cm = confusion_matrix(y_test, y_pred)\n",
    "print(cm)\n",
    "accuracy_score(y_test, y_pred)\n",
    "print (classification_report(y_test, y_pred))"
   ]
  },
  {
   "cell_type": "code",
   "execution_count": 429,
   "metadata": {},
   "outputs": [],
   "source": [
    "params = {\n",
    "    'max_depth': [2, 3, 5, 10, 20],\n",
    "    'min_samples_leaf': [5, 10, 20, 50, 100],\n",
    "    'criterion': [\"gini\", \"entropy\"]\n",
    "}"
   ]
  },
  {
   "cell_type": "code",
   "execution_count": 430,
   "metadata": {},
   "outputs": [],
   "source": [
    "grid_search = GridSearchCV(estimator=classifier, \n",
    "                           param_grid=params, \n",
    "                           cv=4, n_jobs=-1, verbose=1, scoring = \"accuracy\")"
   ]
  },
  {
   "cell_type": "code",
   "execution_count": 431,
   "metadata": {},
   "outputs": [
    {
     "name": "stdout",
     "output_type": "stream",
     "text": [
      "Fitting 4 folds for each of 50 candidates, totalling 200 fits\n"
     ]
    },
    {
     "data": {
      "text/plain": [
       "GridSearchCV(cv=4,\n",
       "             estimator=DecisionTreeClassifier(criterion='entropy',\n",
       "                                              random_state=0),\n",
       "             n_jobs=-1,\n",
       "             param_grid={'criterion': ['gini', 'entropy'],\n",
       "                         'max_depth': [2, 3, 5, 10, 20],\n",
       "                         'min_samples_leaf': [5, 10, 20, 50, 100]},\n",
       "             scoring='accuracy', verbose=1)"
      ]
     },
     "execution_count": 431,
     "metadata": {},
     "output_type": "execute_result"
    }
   ],
   "source": [
    "grid_search.fit(X_train, y_train)"
   ]
  },
  {
   "cell_type": "code",
   "execution_count": 432,
   "metadata": {},
   "outputs": [
    {
     "data": {
      "text/plain": [
       "DecisionTreeClassifier(max_depth=2, min_samples_leaf=100, random_state=0)"
      ]
     },
     "execution_count": 432,
     "metadata": {},
     "output_type": "execute_result"
    }
   ],
   "source": [
    "grid_search.best_estimator_"
   ]
  },
  {
   "cell_type": "code",
   "execution_count": 433,
   "metadata": {},
   "outputs": [],
   "source": [
    "dt_best = grid_search.best_estimator_"
   ]
  },
  {
   "cell_type": "code",
   "execution_count": 434,
   "metadata": {},
   "outputs": [
    {
     "name": "stdout",
     "output_type": "stream",
     "text": [
      "              precision    recall  f1-score   support\n",
      "\n",
      "           0       0.97      1.00      0.98      1653\n",
      "           1       0.00      0.00      0.00        52\n",
      "\n",
      "    accuracy                           0.97      1705\n",
      "   macro avg       0.48      0.50      0.49      1705\n",
      "weighted avg       0.94      0.97      0.95      1705\n",
      "\n"
     ]
    },
    {
     "name": "stderr",
     "output_type": "stream",
     "text": [
      "/opt/anaconda3/lib/python3.8/site-packages/sklearn/metrics/_classification.py:1245: UndefinedMetricWarning: Precision and F-score are ill-defined and being set to 0.0 in labels with no predicted samples. Use `zero_division` parameter to control this behavior.\n",
      "  _warn_prf(average, modifier, msg_start, len(result))\n",
      "/opt/anaconda3/lib/python3.8/site-packages/sklearn/metrics/_classification.py:1245: UndefinedMetricWarning: Precision and F-score are ill-defined and being set to 0.0 in labels with no predicted samples. Use `zero_division` parameter to control this behavior.\n",
      "  _warn_prf(average, modifier, msg_start, len(result))\n",
      "/opt/anaconda3/lib/python3.8/site-packages/sklearn/metrics/_classification.py:1245: UndefinedMetricWarning: Precision and F-score are ill-defined and being set to 0.0 in labels with no predicted samples. Use `zero_division` parameter to control this behavior.\n",
      "  _warn_prf(average, modifier, msg_start, len(result))\n"
     ]
    }
   ],
   "source": [
    "print(classification_report(y_test, dt_best.predict(X_test)))"
   ]
  },
  {
   "cell_type": "code",
   "execution_count": null,
   "metadata": {},
   "outputs": [],
   "source": []
  }
 ],
 "metadata": {
  "colab": {
   "collapsed_sections": [],
   "machine_shape": "hm",
   "name": "decision_tree_classification.ipynb",
   "provenance": []
  },
  "kernelspec": {
   "display_name": "Python 3",
   "language": "python",
   "name": "python3"
  },
  "language_info": {
   "codemirror_mode": {
    "name": "ipython",
    "version": 3
   },
   "file_extension": ".py",
   "mimetype": "text/x-python",
   "name": "python",
   "nbconvert_exporter": "python",
   "pygments_lexer": "ipython3",
   "version": "3.8.8"
  }
 },
 "nbformat": 4,
 "nbformat_minor": 1
}
